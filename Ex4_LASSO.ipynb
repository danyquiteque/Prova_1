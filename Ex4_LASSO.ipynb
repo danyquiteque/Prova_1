{
  "nbformat": 4,
  "nbformat_minor": 0,
  "metadata": {
    "colab": {
      "name": "Ex4_LASSO.ipynb",
      "provenance": [],
      "toc_visible": true,
      "include_colab_link": true
    },
    "kernelspec": {
      "name": "python3",
      "display_name": "Python 3"
    },
    "language_info": {
      "name": "python"
    }
  },
  "cells": [
    {
      "cell_type": "markdown",
      "metadata": {
        "id": "view-in-github",
        "colab_type": "text"
      },
      "source": [
        "<a href=\"https://colab.research.google.com/github/danyquiteque/Prova_1/blob/main/Ex4_LASSO.ipynb\" target=\"_parent\"><img src=\"https://colab.research.google.com/assets/colab-badge.svg\" alt=\"Open In Colab\"/></a>"
      ]
    },
    {
      "cell_type": "markdown",
      "metadata": {
        "id": "Jlu8lL4UFHNb"
      },
      "source": [
        "# Inteligência Artificial "
      ]
    },
    {
      "cell_type": "markdown",
      "metadata": {
        "id": "5bC_5GI7kszA"
      },
      "source": [
        "## Regressão Lasso - **Questão 4**\n",
        "\n",
        "- **Usando o Numpy**"
      ]
    },
    {
      "cell_type": "code",
      "metadata": {
        "id": "mbMyI-kjkv6H"
      },
      "source": [
        "# Importando Bibliotecas\n",
        "\n",
        "import numpy as np\n",
        "import pandas as pd\n",
        "import matplotlib.pyplot as plt\n",
        "%matplotlib inline "
      ],
      "execution_count": null,
      "outputs": []
    },
    {
      "cell_type": "code",
      "metadata": {
        "colab": {
          "base_uri": "https://localhost:8080/",
          "height": 244
        },
        "id": "4RkDGSCOlcTB",
        "outputId": "f9e4d66f-a341-43b6-beb8-9fcf762d20f0"
      },
      "source": [
        "# Carregando os arquivos\n",
        "df = pd.read_csv('./lasso_feature_selectionv2.csv', header=None)\n",
        "D = df.to_numpy()\n",
        "\n",
        "# Visualizando os dados\n",
        "df.head()"
      ],
      "execution_count": null,
      "outputs": [
        {
          "output_type": "execute_result",
          "data": {
            "text/html": [
              "<div>\n",
              "<style scoped>\n",
              "    .dataframe tbody tr th:only-of-type {\n",
              "        vertical-align: middle;\n",
              "    }\n",
              "\n",
              "    .dataframe tbody tr th {\n",
              "        vertical-align: top;\n",
              "    }\n",
              "\n",
              "    .dataframe thead th {\n",
              "        text-align: right;\n",
              "    }\n",
              "</style>\n",
              "<table border=\"1\" class=\"dataframe\">\n",
              "  <thead>\n",
              "    <tr style=\"text-align: right;\">\n",
              "      <th></th>\n",
              "      <th>0</th>\n",
              "      <th>1</th>\n",
              "      <th>2</th>\n",
              "      <th>3</th>\n",
              "      <th>4</th>\n",
              "      <th>5</th>\n",
              "      <th>6</th>\n",
              "      <th>7</th>\n",
              "      <th>8</th>\n",
              "      <th>9</th>\n",
              "      <th>10</th>\n",
              "      <th>11</th>\n",
              "      <th>12</th>\n",
              "      <th>13</th>\n",
              "      <th>14</th>\n",
              "      <th>15</th>\n",
              "      <th>16</th>\n",
              "      <th>17</th>\n",
              "      <th>18</th>\n",
              "      <th>19</th>\n",
              "      <th>20</th>\n",
              "      <th>21</th>\n",
              "      <th>22</th>\n",
              "      <th>23</th>\n",
              "      <th>24</th>\n",
              "      <th>25</th>\n",
              "      <th>26</th>\n",
              "      <th>27</th>\n",
              "      <th>28</th>\n",
              "      <th>29</th>\n",
              "      <th>30</th>\n",
              "      <th>31</th>\n",
              "      <th>32</th>\n",
              "      <th>33</th>\n",
              "      <th>34</th>\n",
              "      <th>35</th>\n",
              "      <th>36</th>\n",
              "      <th>37</th>\n",
              "      <th>38</th>\n",
              "      <th>39</th>\n",
              "      <th>...</th>\n",
              "      <th>61</th>\n",
              "      <th>62</th>\n",
              "      <th>63</th>\n",
              "      <th>64</th>\n",
              "      <th>65</th>\n",
              "      <th>66</th>\n",
              "      <th>67</th>\n",
              "      <th>68</th>\n",
              "      <th>69</th>\n",
              "      <th>70</th>\n",
              "      <th>71</th>\n",
              "      <th>72</th>\n",
              "      <th>73</th>\n",
              "      <th>74</th>\n",
              "      <th>75</th>\n",
              "      <th>76</th>\n",
              "      <th>77</th>\n",
              "      <th>78</th>\n",
              "      <th>79</th>\n",
              "      <th>80</th>\n",
              "      <th>81</th>\n",
              "      <th>82</th>\n",
              "      <th>83</th>\n",
              "      <th>84</th>\n",
              "      <th>85</th>\n",
              "      <th>86</th>\n",
              "      <th>87</th>\n",
              "      <th>88</th>\n",
              "      <th>89</th>\n",
              "      <th>90</th>\n",
              "      <th>91</th>\n",
              "      <th>92</th>\n",
              "      <th>93</th>\n",
              "      <th>94</th>\n",
              "      <th>95</th>\n",
              "      <th>96</th>\n",
              "      <th>97</th>\n",
              "      <th>98</th>\n",
              "      <th>99</th>\n",
              "      <th>100</th>\n",
              "    </tr>\n",
              "  </thead>\n",
              "  <tbody>\n",
              "    <tr>\n",
              "      <th>0</th>\n",
              "      <td>0.334377</td>\n",
              "      <td>-0.561756</td>\n",
              "      <td>-0.676800</td>\n",
              "      <td>0.228994</td>\n",
              "      <td>1.119011</td>\n",
              "      <td>-0.884690</td>\n",
              "      <td>0.494047</td>\n",
              "      <td>0.359456</td>\n",
              "      <td>1.403467</td>\n",
              "      <td>-1.299617</td>\n",
              "      <td>-1.416286</td>\n",
              "      <td>-0.649244</td>\n",
              "      <td>1.341818</td>\n",
              "      <td>-1.006188</td>\n",
              "      <td>-0.599753</td>\n",
              "      <td>-1.148626</td>\n",
              "      <td>-1.637690</td>\n",
              "      <td>-0.234172</td>\n",
              "      <td>1.420751</td>\n",
              "      <td>0.511981</td>\n",
              "      <td>-1.009236</td>\n",
              "      <td>-0.210161</td>\n",
              "      <td>1.643978</td>\n",
              "      <td>-0.528377</td>\n",
              "      <td>-0.621694</td>\n",
              "      <td>0.760489</td>\n",
              "      <td>0.098236</td>\n",
              "      <td>1.599531</td>\n",
              "      <td>-0.243171</td>\n",
              "      <td>-0.773937</td>\n",
              "      <td>-0.915105</td>\n",
              "      <td>-0.480906</td>\n",
              "      <td>0.499647</td>\n",
              "      <td>-0.578302</td>\n",
              "      <td>1.121227</td>\n",
              "      <td>-0.032122</td>\n",
              "      <td>0.306002</td>\n",
              "      <td>0.324657</td>\n",
              "      <td>-0.584450</td>\n",
              "      <td>1.706186</td>\n",
              "      <td>...</td>\n",
              "      <td>0.050979</td>\n",
              "      <td>-1.247789</td>\n",
              "      <td>-0.072768</td>\n",
              "      <td>-0.730830</td>\n",
              "      <td>0.359064</td>\n",
              "      <td>-1.089802</td>\n",
              "      <td>-0.786563</td>\n",
              "      <td>-0.087857</td>\n",
              "      <td>-2.283344</td>\n",
              "      <td>0.146346</td>\n",
              "      <td>-0.978928</td>\n",
              "      <td>0.524712</td>\n",
              "      <td>0.399512</td>\n",
              "      <td>0.771693</td>\n",
              "      <td>-1.054659</td>\n",
              "      <td>0.375069</td>\n",
              "      <td>0.189166</td>\n",
              "      <td>-0.538019</td>\n",
              "      <td>0.124725</td>\n",
              "      <td>-1.224206</td>\n",
              "      <td>-0.588701</td>\n",
              "      <td>1.275770</td>\n",
              "      <td>-0.593853</td>\n",
              "      <td>0.377356</td>\n",
              "      <td>-0.385393</td>\n",
              "      <td>0.939718</td>\n",
              "      <td>0.484389</td>\n",
              "      <td>1.015074</td>\n",
              "      <td>-1.039472</td>\n",
              "      <td>1.428152</td>\n",
              "      <td>0.191244</td>\n",
              "      <td>-0.059826</td>\n",
              "      <td>-1.113800</td>\n",
              "      <td>0.955546</td>\n",
              "      <td>-0.410199</td>\n",
              "      <td>-0.722252</td>\n",
              "      <td>0.298428</td>\n",
              "      <td>-0.054560</td>\n",
              "      <td>-2.656596</td>\n",
              "      <td>-79.726563</td>\n",
              "    </tr>\n",
              "    <tr>\n",
              "      <th>1</th>\n",
              "      <td>-1.580898</td>\n",
              "      <td>1.857984</td>\n",
              "      <td>0.483941</td>\n",
              "      <td>-1.671214</td>\n",
              "      <td>2.098734</td>\n",
              "      <td>1.833685</td>\n",
              "      <td>0.137667</td>\n",
              "      <td>-0.508463</td>\n",
              "      <td>-0.377942</td>\n",
              "      <td>0.257227</td>\n",
              "      <td>-0.847818</td>\n",
              "      <td>1.465291</td>\n",
              "      <td>0.333078</td>\n",
              "      <td>1.465221</td>\n",
              "      <td>-0.387277</td>\n",
              "      <td>0.526647</td>\n",
              "      <td>1.292724</td>\n",
              "      <td>1.082433</td>\n",
              "      <td>-0.794663</td>\n",
              "      <td>-0.926481</td>\n",
              "      <td>-0.947584</td>\n",
              "      <td>-0.323538</td>\n",
              "      <td>1.011818</td>\n",
              "      <td>-0.938355</td>\n",
              "      <td>0.572328</td>\n",
              "      <td>-0.809521</td>\n",
              "      <td>0.579427</td>\n",
              "      <td>-1.477119</td>\n",
              "      <td>-1.646567</td>\n",
              "      <td>0.911625</td>\n",
              "      <td>-1.812616</td>\n",
              "      <td>-1.050966</td>\n",
              "      <td>0.820285</td>\n",
              "      <td>0.774867</td>\n",
              "      <td>1.089866</td>\n",
              "      <td>0.918924</td>\n",
              "      <td>1.237707</td>\n",
              "      <td>0.610533</td>\n",
              "      <td>0.076611</td>\n",
              "      <td>-1.830136</td>\n",
              "      <td>...</td>\n",
              "      <td>-0.780225</td>\n",
              "      <td>0.133250</td>\n",
              "      <td>1.471619</td>\n",
              "      <td>0.160315</td>\n",
              "      <td>-0.993611</td>\n",
              "      <td>0.118865</td>\n",
              "      <td>0.193566</td>\n",
              "      <td>-1.813061</td>\n",
              "      <td>0.769435</td>\n",
              "      <td>-1.778294</td>\n",
              "      <td>0.353618</td>\n",
              "      <td>-0.497817</td>\n",
              "      <td>0.616050</td>\n",
              "      <td>0.921069</td>\n",
              "      <td>-1.777703</td>\n",
              "      <td>-0.529566</td>\n",
              "      <td>-1.175458</td>\n",
              "      <td>1.387450</td>\n",
              "      <td>-0.375567</td>\n",
              "      <td>0.328753</td>\n",
              "      <td>0.209562</td>\n",
              "      <td>-0.267147</td>\n",
              "      <td>-0.761737</td>\n",
              "      <td>1.455742</td>\n",
              "      <td>2.505802</td>\n",
              "      <td>0.127038</td>\n",
              "      <td>0.525937</td>\n",
              "      <td>-0.664170</td>\n",
              "      <td>0.219164</td>\n",
              "      <td>0.375959</td>\n",
              "      <td>-0.013819</td>\n",
              "      <td>1.177997</td>\n",
              "      <td>-1.141896</td>\n",
              "      <td>-0.810859</td>\n",
              "      <td>0.501845</td>\n",
              "      <td>0.404929</td>\n",
              "      <td>-1.396207</td>\n",
              "      <td>0.361531</td>\n",
              "      <td>2.032030</td>\n",
              "      <td>-84.739863</td>\n",
              "    </tr>\n",
              "    <tr>\n",
              "      <th>2</th>\n",
              "      <td>0.626561</td>\n",
              "      <td>-0.962764</td>\n",
              "      <td>-0.020428</td>\n",
              "      <td>0.033166</td>\n",
              "      <td>-0.810121</td>\n",
              "      <td>-1.041565</td>\n",
              "      <td>-1.262909</td>\n",
              "      <td>-0.829631</td>\n",
              "      <td>-0.005779</td>\n",
              "      <td>-1.123798</td>\n",
              "      <td>-1.659234</td>\n",
              "      <td>-1.136776</td>\n",
              "      <td>-1.235864</td>\n",
              "      <td>0.127758</td>\n",
              "      <td>-0.301415</td>\n",
              "      <td>-2.343719</td>\n",
              "      <td>-0.971360</td>\n",
              "      <td>1.028015</td>\n",
              "      <td>-0.544547</td>\n",
              "      <td>0.802025</td>\n",
              "      <td>-0.537681</td>\n",
              "      <td>-0.757160</td>\n",
              "      <td>-0.328402</td>\n",
              "      <td>-0.749867</td>\n",
              "      <td>0.482891</td>\n",
              "      <td>-0.521108</td>\n",
              "      <td>-2.120671</td>\n",
              "      <td>-0.378307</td>\n",
              "      <td>-0.159456</td>\n",
              "      <td>0.634935</td>\n",
              "      <td>-1.276916</td>\n",
              "      <td>-0.482019</td>\n",
              "      <td>-0.348012</td>\n",
              "      <td>-0.457103</td>\n",
              "      <td>0.447955</td>\n",
              "      <td>0.755437</td>\n",
              "      <td>1.150110</td>\n",
              "      <td>1.285697</td>\n",
              "      <td>1.902622</td>\n",
              "      <td>-0.597203</td>\n",
              "      <td>...</td>\n",
              "      <td>1.286258</td>\n",
              "      <td>0.490592</td>\n",
              "      <td>0.219308</td>\n",
              "      <td>0.283224</td>\n",
              "      <td>0.223684</td>\n",
              "      <td>0.497469</td>\n",
              "      <td>0.057247</td>\n",
              "      <td>-3.004541</td>\n",
              "      <td>-0.374725</td>\n",
              "      <td>-0.534873</td>\n",
              "      <td>-0.324749</td>\n",
              "      <td>-0.470051</td>\n",
              "      <td>-1.193289</td>\n",
              "      <td>-0.933015</td>\n",
              "      <td>-0.777397</td>\n",
              "      <td>0.077152</td>\n",
              "      <td>-0.177008</td>\n",
              "      <td>0.181741</td>\n",
              "      <td>-1.243469</td>\n",
              "      <td>0.539495</td>\n",
              "      <td>-0.584489</td>\n",
              "      <td>1.200848</td>\n",
              "      <td>2.589701</td>\n",
              "      <td>0.120511</td>\n",
              "      <td>-0.264707</td>\n",
              "      <td>1.443919</td>\n",
              "      <td>-0.674237</td>\n",
              "      <td>0.809284</td>\n",
              "      <td>2.530429</td>\n",
              "      <td>0.010640</td>\n",
              "      <td>0.529374</td>\n",
              "      <td>-0.147794</td>\n",
              "      <td>0.463676</td>\n",
              "      <td>-1.216964</td>\n",
              "      <td>0.507248</td>\n",
              "      <td>-1.345050</td>\n",
              "      <td>0.165936</td>\n",
              "      <td>-0.244623</td>\n",
              "      <td>-0.012165</td>\n",
              "      <td>144.122211</td>\n",
              "    </tr>\n",
              "    <tr>\n",
              "      <th>3</th>\n",
              "      <td>1.064417</td>\n",
              "      <td>2.077150</td>\n",
              "      <td>0.822561</td>\n",
              "      <td>-0.556084</td>\n",
              "      <td>0.456684</td>\n",
              "      <td>1.383759</td>\n",
              "      <td>-0.849099</td>\n",
              "      <td>0.884577</td>\n",
              "      <td>-0.535432</td>\n",
              "      <td>2.057089</td>\n",
              "      <td>-0.042061</td>\n",
              "      <td>-2.159131</td>\n",
              "      <td>-0.527678</td>\n",
              "      <td>1.353460</td>\n",
              "      <td>0.408575</td>\n",
              "      <td>-1.529275</td>\n",
              "      <td>0.400601</td>\n",
              "      <td>0.568765</td>\n",
              "      <td>-0.988532</td>\n",
              "      <td>0.668614</td>\n",
              "      <td>-0.299096</td>\n",
              "      <td>1.398279</td>\n",
              "      <td>0.633796</td>\n",
              "      <td>0.066945</td>\n",
              "      <td>0.429477</td>\n",
              "      <td>0.319640</td>\n",
              "      <td>2.348663</td>\n",
              "      <td>-1.990516</td>\n",
              "      <td>-1.437541</td>\n",
              "      <td>-0.588809</td>\n",
              "      <td>-0.272050</td>\n",
              "      <td>-0.129530</td>\n",
              "      <td>0.465563</td>\n",
              "      <td>-0.004302</td>\n",
              "      <td>0.806246</td>\n",
              "      <td>-1.507334</td>\n",
              "      <td>0.784819</td>\n",
              "      <td>-0.410419</td>\n",
              "      <td>-1.241175</td>\n",
              "      <td>-0.116167</td>\n",
              "      <td>...</td>\n",
              "      <td>0.637913</td>\n",
              "      <td>-1.382621</td>\n",
              "      <td>0.167364</td>\n",
              "      <td>0.601842</td>\n",
              "      <td>0.534900</td>\n",
              "      <td>-0.664932</td>\n",
              "      <td>-0.114208</td>\n",
              "      <td>0.312271</td>\n",
              "      <td>0.871898</td>\n",
              "      <td>1.169804</td>\n",
              "      <td>0.192000</td>\n",
              "      <td>0.441712</td>\n",
              "      <td>1.031722</td>\n",
              "      <td>1.307648</td>\n",
              "      <td>0.401036</td>\n",
              "      <td>1.812311</td>\n",
              "      <td>0.086606</td>\n",
              "      <td>-1.465482</td>\n",
              "      <td>1.926172</td>\n",
              "      <td>-0.965933</td>\n",
              "      <td>0.178472</td>\n",
              "      <td>-0.428502</td>\n",
              "      <td>1.280707</td>\n",
              "      <td>1.895835</td>\n",
              "      <td>0.201706</td>\n",
              "      <td>-1.318821</td>\n",
              "      <td>-0.036992</td>\n",
              "      <td>-0.694297</td>\n",
              "      <td>-0.267910</td>\n",
              "      <td>-1.684311</td>\n",
              "      <td>1.614440</td>\n",
              "      <td>1.346483</td>\n",
              "      <td>-1.901105</td>\n",
              "      <td>-0.509264</td>\n",
              "      <td>0.075474</td>\n",
              "      <td>-0.644525</td>\n",
              "      <td>-1.146478</td>\n",
              "      <td>-1.929918</td>\n",
              "      <td>0.295245</td>\n",
              "      <td>54.519860</td>\n",
              "    </tr>\n",
              "    <tr>\n",
              "      <th>4</th>\n",
              "      <td>0.901190</td>\n",
              "      <td>-1.521802</td>\n",
              "      <td>0.102988</td>\n",
              "      <td>-0.139193</td>\n",
              "      <td>-1.267310</td>\n",
              "      <td>0.202641</td>\n",
              "      <td>0.333244</td>\n",
              "      <td>0.192762</td>\n",
              "      <td>0.216739</td>\n",
              "      <td>-0.309284</td>\n",
              "      <td>-0.191029</td>\n",
              "      <td>-0.809996</td>\n",
              "      <td>0.387935</td>\n",
              "      <td>1.158366</td>\n",
              "      <td>1.429333</td>\n",
              "      <td>0.674148</td>\n",
              "      <td>-1.286444</td>\n",
              "      <td>1.390188</td>\n",
              "      <td>0.516228</td>\n",
              "      <td>0.580526</td>\n",
              "      <td>-0.357978</td>\n",
              "      <td>-0.740168</td>\n",
              "      <td>-0.077849</td>\n",
              "      <td>-0.695104</td>\n",
              "      <td>-0.495279</td>\n",
              "      <td>-0.063325</td>\n",
              "      <td>1.259223</td>\n",
              "      <td>-1.400378</td>\n",
              "      <td>0.469218</td>\n",
              "      <td>1.618093</td>\n",
              "      <td>0.057517</td>\n",
              "      <td>-1.195365</td>\n",
              "      <td>-0.411829</td>\n",
              "      <td>-0.511729</td>\n",
              "      <td>-0.325670</td>\n",
              "      <td>-0.870145</td>\n",
              "      <td>-1.063500</td>\n",
              "      <td>0.363658</td>\n",
              "      <td>-0.595916</td>\n",
              "      <td>0.001930</td>\n",
              "      <td>...</td>\n",
              "      <td>-0.883928</td>\n",
              "      <td>-1.467272</td>\n",
              "      <td>-2.621442</td>\n",
              "      <td>0.736768</td>\n",
              "      <td>0.107860</td>\n",
              "      <td>-1.208113</td>\n",
              "      <td>0.013246</td>\n",
              "      <td>0.470475</td>\n",
              "      <td>1.228527</td>\n",
              "      <td>-0.566086</td>\n",
              "      <td>-0.103283</td>\n",
              "      <td>1.199583</td>\n",
              "      <td>-0.128788</td>\n",
              "      <td>1.952908</td>\n",
              "      <td>-0.352500</td>\n",
              "      <td>-1.955716</td>\n",
              "      <td>-0.025469</td>\n",
              "      <td>-0.455286</td>\n",
              "      <td>1.530949</td>\n",
              "      <td>1.043136</td>\n",
              "      <td>-0.486653</td>\n",
              "      <td>-0.614421</td>\n",
              "      <td>-0.776278</td>\n",
              "      <td>-1.753584</td>\n",
              "      <td>2.709809</td>\n",
              "      <td>-0.900077</td>\n",
              "      <td>0.689561</td>\n",
              "      <td>0.599087</td>\n",
              "      <td>1.405847</td>\n",
              "      <td>0.819734</td>\n",
              "      <td>1.580959</td>\n",
              "      <td>-0.396205</td>\n",
              "      <td>-0.699063</td>\n",
              "      <td>0.095135</td>\n",
              "      <td>-1.199228</td>\n",
              "      <td>0.409328</td>\n",
              "      <td>2.175347</td>\n",
              "      <td>-0.729017</td>\n",
              "      <td>-0.779334</td>\n",
              "      <td>-129.694669</td>\n",
              "    </tr>\n",
              "  </tbody>\n",
              "</table>\n",
              "<p>5 rows × 101 columns</p>\n",
              "</div>"
            ],
            "text/plain": [
              "        0         1         2    ...       98        99          100\n",
              "0  0.334377 -0.561756 -0.676800  ... -0.054560 -2.656596  -79.726563\n",
              "1 -1.580898  1.857984  0.483941  ...  0.361531  2.032030  -84.739863\n",
              "2  0.626561 -0.962764 -0.020428  ... -0.244623 -0.012165  144.122211\n",
              "3  1.064417  2.077150  0.822561  ... -1.929918  0.295245   54.519860\n",
              "4  0.901190 -1.521802  0.102988  ... -0.729017 -0.779334 -129.694669\n",
              "\n",
              "[5 rows x 101 columns]"
            ]
          },
          "metadata": {
            "tags": []
          },
          "execution_count": 2
        }
      ]
    },
    {
      "cell_type": "code",
      "metadata": {
        "id": "MIIcnIeFmFG9"
      },
      "source": [
        "# Separando os dados\n",
        "X = D[:,0:D.shape[1]-1]\n",
        "Y = D[:,D.shape[1]-1]"
      ],
      "execution_count": null,
      "outputs": []
    },
    {
      "cell_type": "markdown",
      "metadata": {
        "id": "FN9nFh-nvVHU"
      },
      "source": [
        "### **Padronizando os dados**"
      ]
    },
    {
      "cell_type": "code",
      "metadata": {
        "id": "gA71Sdw4vZcU"
      },
      "source": [
        "# Importando a Biblioteca\n",
        "from sklearn.preprocessing import StandardScaler"
      ],
      "execution_count": null,
      "outputs": []
    },
    {
      "cell_type": "code",
      "metadata": {
        "id": "_sAyuVpPvkZS"
      },
      "source": [
        "# Padronizador\n",
        "padronizador = StandardScaler()"
      ],
      "execution_count": null,
      "outputs": []
    },
    {
      "cell_type": "markdown",
      "metadata": {
        "id": "dNIxPGqDzObv"
      },
      "source": [
        "## Aplicando a Regressão Lasso"
      ]
    },
    {
      "cell_type": "code",
      "metadata": {
        "id": "U9IWGl7S-Cb5"
      },
      "source": [
        "from sklearn.linear_model import Lasso"
      ],
      "execution_count": null,
      "outputs": []
    },
    {
      "cell_type": "code",
      "metadata": {
        "colab": {
          "base_uri": "https://localhost:8080/"
        },
        "id": "TxYianrR-Mc4",
        "outputId": "53bbd676-2862-4539-cf62-8526cb729d0a"
      },
      "source": [
        "modelo1 = Lasso(alpha=0.5)\n",
        "modelo1.fit(X, Y)"
      ],
      "execution_count": null,
      "outputs": [
        {
          "output_type": "execute_result",
          "data": {
            "text/plain": [
              "Lasso(alpha=0.5, copy_X=True, fit_intercept=True, max_iter=1000,\n",
              "      normalize=False, positive=False, precompute=False, random_state=None,\n",
              "      selection='cyclic', tol=0.0001, warm_start=False)"
            ]
          },
          "metadata": {
            "tags": []
          },
          "execution_count": 169
        }
      ]
    },
    {
      "cell_type": "code",
      "metadata": {
        "colab": {
          "base_uri": "https://localhost:8080/"
        },
        "id": "G7-DWaNz-hxN",
        "outputId": "5805ef5e-37d2-48c6-886c-bc345e619808"
      },
      "source": [
        "score = modelo1.score(X, Y)\n",
        "\n",
        "score"
      ],
      "execution_count": null,
      "outputs": [
        {
          "output_type": "execute_result",
          "data": {
            "text/plain": [
              "0.9997785251325428"
            ]
          },
          "metadata": {
            "tags": []
          },
          "execution_count": 171
        }
      ]
    },
    {
      "cell_type": "markdown",
      "metadata": {
        "id": "XZc13EDh-2jV"
      },
      "source": [
        "### **Determinando o score com diferentes lambdas**"
      ]
    },
    {
      "cell_type": "code",
      "metadata": {
        "id": "E-A5FeaW-0fa"
      },
      "source": [
        "lambdas = [0.0001,0.001, 0.01, 0.1, 0.5, 1]"
      ],
      "execution_count": null,
      "outputs": []
    },
    {
      "cell_type": "code",
      "metadata": {
        "id": "9hDYJLlO-_yF"
      },
      "source": [
        "scores = []"
      ],
      "execution_count": null,
      "outputs": []
    },
    {
      "cell_type": "code",
      "metadata": {
        "id": "7o8dha9L_Dt1"
      },
      "source": [
        "for i in range(len(lambdas)):\n",
        "    modelo = Lasso(alpha=lambdas[i])\n",
        "    modelo.fit(X, Y)\n",
        "    score = modelo.score(X, Y)\n",
        "    scores.append(score)"
      ],
      "execution_count": null,
      "outputs": []
    },
    {
      "cell_type": "code",
      "metadata": {
        "colab": {
          "base_uri": "https://localhost:8080/",
          "height": 283
        },
        "id": "vEa7TBkl_OUX",
        "outputId": "2c5167b9-2518-4234-9f5f-b383ccb1794a"
      },
      "source": [
        "plt.scatter(lambdas,scores);\n",
        "plt.xlabel('Lambda');\n",
        "plt.ylabel('Score');\n",
        "plt.xscale('log');\n",
        "plt.xlim([1e-20,1]);"
      ],
      "execution_count": null,
      "outputs": [
        {
          "output_type": "display_data",
          "data": {
            "image/png": "[encoded data removed]",
            "text/plain": [
              "<Figure size 432x288 with 1 Axes>"
            ]
          },
          "metadata": {
            "tags": [],
            "needs_background": "light"
          }
        }
      ]
    },
    {
      "cell_type": "code",
      "metadata": {
        "colab": {
          "base_uri": "https://localhost:8080/"
        },
        "id": "rPk2oSTi_cBF",
        "outputId": "d1e03b5c-459c-46e3-9364-85f626bca028"
      },
      "source": [
        "modelo_final = Lasso(alpha=0.01)\n",
        "modelo_final.fit(X, Y)"
      ],
      "execution_count": null,
      "outputs": [
        {
          "output_type": "execute_result",
          "data": {
            "text/plain": [
              "Lasso(alpha=0.01, copy_X=True, fit_intercept=True, max_iter=1000,\n",
              "      normalize=False, positive=False, precompute=False, random_state=None,\n",
              "      selection='cyclic', tol=0.0001, warm_start=False)"
            ]
          },
          "metadata": {
            "tags": []
          },
          "execution_count": 176
        }
      ]
    },
    {
      "cell_type": "code",
      "metadata": {
        "colab": {
          "base_uri": "https://localhost:8080/"
        },
        "id": "q9jXicjB_toR",
        "outputId": "521dc45b-6174-40c2-a6e7-77c09ad006df"
      },
      "source": [
        "Y_pred = modelo_final.predict(X)\n",
        "\n",
        "print(Y_pred)"
      ],
      "execution_count": null,
      "outputs": [
        {
          "output_type": "stream",
          "text": [
            "[ -79.69726121  -84.80867588  144.38188091   54.29003907 -128.8487765\n",
            "  -78.30508033  117.90378872 -154.78856769   89.31799242 -180.11325509\n",
            "  258.36174839  106.66903096  -29.9124615   121.2596195   -66.61331777\n",
            "   57.25161813  167.653968    299.75665016  144.72527944   11.75025896\n",
            "  -68.04480007 -165.40687611  101.7322582   -60.9795464    85.90528191\n",
            " -198.31802024 -237.1710766   -95.14254332   61.27362728 -239.5303211\n",
            "   59.2370486    13.53474511   39.47021616 -161.30046503  216.73677709\n",
            " -113.15345339   16.27934156   14.57155957 -190.889233   -250.72209286\n",
            "  153.38951976   46.57908017  100.0617182     0.96335186  -14.49469055\n",
            " -149.34108036 -102.9537227  -219.32563337  -31.41455195 -165.42618967\n",
            " -104.49259489  -24.64312171 -140.52381878   26.59461897  -28.80403076\n",
            "   26.57488135   -9.37419662 -155.51298807   57.94140908    3.81565043\n",
            " -150.15478908  199.0575129    -4.0231091  -182.41751106   -3.2245224\n",
            "  177.69154276  237.53808773  129.24016456  -69.55373737   -3.69804443\n",
            "  -78.19321816  -13.57193039  -88.57480224  -94.66183549  -49.62551051\n",
            "    6.6519479     1.55278756  -56.70690699  319.19594099   47.20775248\n",
            "  -26.54476039 -166.45406553 -151.11698266   24.47949993 -114.68126229\n",
            "   -1.24748455 -200.32292903   72.08020196    2.83562857 -254.12387903\n",
            "  -78.6888816    57.84849195 -103.61524877  -18.57444482 -230.54348744\n",
            "   79.97167486  221.1990013  -273.27372095   44.11060131 -189.03602271]\n"
          ],
          "name": "stdout"
        }
      ]
    },
    {
      "cell_type": "markdown",
      "metadata": {
        "id": "TrtAawBfUaNw"
      },
      "source": [
        "        **RESPOSTAS TEÓRICAS**\n",
        "\n",
        "4. B) Observando o valor de MSE, podemos concluir que sem a regularização o modelo vai entrar muito mais porque teremos os dados muito dispersos.\n",
        "\n",
        "4. F) Observando a figura, podemos concluir que aumentando os valores de Lambda os pesos diminuem e a norma do vetor de pesos também.\n",
        "\n",
        "\n",
        "4. H) Este subconjunto tem 100 atributos.\n",
        "\n",
        "4. K) \n",
        "\n",
        "4  L) Sim. Com esse novo subconjunto seria possivel sim utilizar a regressão linear.\n",
        "\n",
        "\n",
        "\n",
        "\n",
        "\n",
        "\n",
        "\n",
        "\n"
      ]
    }
  ]
}